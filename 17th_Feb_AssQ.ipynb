{
  "nbformat": 4,
  "nbformat_minor": 0,
  "metadata": {
    "colab": {
      "provenance": []
    },
    "kernelspec": {
      "name": "python3",
      "display_name": "Python 3"
    },
    "language_info": {
      "name": "python"
    }
  },
  "cells": [
    {
      "cell_type": "markdown",
      "source": [
        "# Q1. What is MongoDB? Explain non-relational databases in short. In which scenarios it is preferred to use MongoDB over SQL databases?"
      ],
      "metadata": {
        "id": "ungSY64exmOG"
      }
    },
    {
      "cell_type": "markdown",
      "source": [
        "MongoDB is a popular open-source NoSQL (non-relational) database management system. Unlike traditional relational databases, which use tables with rows and columns to organize data, MongoDB stores data in flexible, JSON-like documents with dynamic schemas, known as BSON (Binary JSON). It is designed to handle large amounts of unstructured or semi-structured data and offers high performance, scalability, and flexibility.\n",
        "\n",
        "Non-relational databases, also known as NoSQL databases, deviate from the traditional relational database model by not enforcing a fixed schema and typically allowing for horizontal scalability. They are suitable for scenarios where the data structure is dynamic and evolving, and where the scale of data and transactions is high.\n",
        "\n",
        "MongoDB is preferred over SQL databases in certain scenarios such as:\n",
        "\n",
        "1. Flexible Schema: MongoDB's dynamic schema allows for easy modification and adaptation of the data structure without requiring a predefined schema. This is beneficial in applications where the data model is subject to change.\n",
        "\n",
        "2. Scalability: MongoDB is designed to scale horizontally, allowing for distributed databases across multiple servers or clusters. This makes it well-suited for applications with growing data and traffic demands.\n",
        "\n",
        "3. Handling Unstructured Data: MongoDB is effective for handling unstructured or semi-structured data, such as JSON-like documents, which may not fit neatly into a traditional relational database model.\n",
        "\n",
        "4. Document-Oriented Nature: MongoDB's document-oriented approach makes it suitable for scenarios where data is naturally organized in hierarchical structures, resembling the data format used in the application.\n",
        "\n",
        "5. Agile Development and Prototyping: MongoDB's flexibility is advantageous in agile development environments where changes to the data model are frequent and prototyping is a key aspect of the development process."
      ],
      "metadata": {
        "id": "dTDUQdWAxmMI"
      }
    },
    {
      "cell_type": "markdown",
      "source": [
        "# Q2. State and explain the features of MongoDB."
      ],
      "metadata": {
        "id": "Gv8IrPLkx8X2"
      }
    },
    {
      "cell_type": "markdown",
      "source": [
        "\n",
        "MongoDB offers a range of features that make it a popular choice for developers and organizations. Here are some key features of MongoDB:\n",
        "\n",
        "1. Flexible Schema:\n",
        "MongoDB uses a dynamic schema, allowing documents in a collection to have different fields and structures. This flexibility is particularly useful in scenarios where the data model evolves over time.\n",
        "\n",
        "2. Document-Oriented: Data is stored in BSON (Binary JSON) documents, which are similar to JSON objects. This document-oriented approach allows developers to represent complex hierarchical relationships in a natural and intuitive way.\n",
        "\n",
        "3. High Performance: MongoDB provides high performance for read and write operations. It uses various optimization techniques, including indexing, to achieve efficient query execution and retrieval of data.\n",
        "Scalability:\n",
        "\n",
        "MongoDB is designed to scale horizontally by distributing data across multiple servers or clusters. This horizontal scaling enables the database to handle large amounts of data and high traffic loads.\n",
        "\n",
        "4. Automatic Sharding: Sharding is a technique used to distribute data across multiple servers to improve performance and scalability. MongoDB supports automatic sharding, making it easier to manage and scale databases as the data volume grows.\n",
        "\n",
        "5. Aggregation Framework: MongoDB includes a powerful aggregation framework that supports data transformation, filtering, and analysis. It allows developers to perform complex data manipulations within the database, reducing the need for extensive data processing on the application side.\n",
        "\n",
        "6. Indexing: Indexes can be created on any field within a MongoDB collection, facilitating fast and efficient query execution. Proper indexing is crucial for optimizing query performance in large datasets.\n"
      ],
      "metadata": {
        "id": "3kPyFRKYyF81"
      }
    },
    {
      "cell_type": "markdown",
      "source": [
        "  # Q3. Write a code to connect MongoDB to Python. Also, create a database and a collection in MongoDB."
      ],
      "metadata": {
        "id": "t4CETVhoyi03"
      }
    },
    {
      "cell_type": "code",
      "execution_count": null,
      "metadata": {
        "id": "36pEXMv3xcrO"
      },
      "outputs": [],
      "source": [
        "from pymongo.mongo_client import MongoClient\n",
        "from pymongo.server_api import ServerApi\n",
        "\n",
        "uri = \"mongodb+srv://<username>:<password>@cluster0.hkdiwtm.mongodb.net/?retryWrites=true&w=majority\"\n",
        "\n",
        "# Create a new client and connect to the server\n",
        "client = MongoClient(uri, server_api=ServerApi('1'))\n",
        "\n",
        "# Send a ping to confirm a successful connection\n",
        "try:\n",
        "    client.admin.command('ping')\n",
        "    print(\"Pinged your deployment. You successfully connected to MongoDB!\")\n",
        "except Exception as e:\n",
        "    print(e)\n",
        "\n",
        "#Creating a database\n",
        "db = client['pwskills']\n",
        "\n",
        "#Creating a collection\n",
        "coll_create = db['my_record']"
      ]
    },
    {
      "cell_type": "markdown",
      "source": [
        "# Q4. Using the database and the collection created in question number 3, write a code to insert one record, and insert many records. Use the find() and find_one() methods to print the inserted record."
      ],
      "metadata": {
        "id": "pHw_ehjyzJhG"
      }
    },
    {
      "cell_type": "code",
      "source": [
        "data = {\n",
        "    'name': 'walter',\n",
        "    'class': 'ds'\n",
        "}\n",
        "\n",
        "coll_create.insert_one(data)\n",
        "\n",
        "lst = [\n",
        "    {\n",
        "        'name':'walter'\n",
        "    },\n",
        "    {\n",
        "        'ok':'ay'\n",
        "    }\n",
        "]\n",
        "\n",
        "coll_create.insert_many(lst)\n",
        "\n",
        "coll_create.find_one()\n",
        "\n",
        "for i in coll_create.find():\n",
        "  print(i)"
      ],
      "metadata": {
        "id": "f2jrHwVGzu-F"
      },
      "execution_count": null,
      "outputs": []
    },
    {
      "cell_type": "markdown",
      "source": [
        "# Q5. Explain how you can use the find() method to query the MongoDB database. Write a simple code to demonstrate this."
      ],
      "metadata": {
        "id": "vYlUuS2z0Jzd"
      }
    },
    {
      "cell_type": "markdown",
      "source": [
        "In MongoDB, the find() method is used to query a collection and retrieve documents that match a specified condition or criteria. The find() method returns a cursor, which you can iterate over to access the documents."
      ],
      "metadata": {
        "id": "hkUOMnlj0PTa"
      }
    },
    {
      "cell_type": "code",
      "source": [
        "# Find documents where the 'field' equals a certain value\n",
        "result = collection.find({\"field\": \"value\"})"
      ],
      "metadata": {
        "id": "g8Bl4Np90Ys-"
      },
      "execution_count": null,
      "outputs": []
    },
    {
      "cell_type": "markdown",
      "source": [
        "# Q6. Explain the sort() method. Give an example to demonstrate sorting in MongoDB."
      ],
      "metadata": {
        "id": "fWz5AIJ10dX6"
      }
    },
    {
      "cell_type": "markdown",
      "source": [
        "In MongoDB, the sort() method is used to sort the documents in a collection based on one or more fields. The sort() method takes a document as its argument, where each field specifies the order in which the documents should be sorted. The field values can be specified as either ascending (1) or descending (-1)."
      ],
      "metadata": {
        "id": "viTkRxvj0jby"
      }
    },
    {
      "cell_type": "code",
      "source": [
        "from pymongo import MongoClient\n",
        "\n",
        "# Connect to MongoDB\n",
        "client = MongoClient(\"mongodb://localhost:27017/\")\n",
        "database = client[\"my_database\"]\n",
        "collection = database[\"students\"]\n",
        "\n",
        "# Sorting in ascending order based on the \"score\" field\n",
        "asc_sorted_documents = collection.find().sort(\"score\", 1)\n",
        "\n",
        "print(\"Ascending Order:\")\n",
        "for document in asc_sorted_documents:\n",
        "    print(document)\n",
        "\n",
        "# Sorting in descending order based on the \"score\" field\n",
        "desc_sorted_documents = collection.find().sort(\"score\", -1)\n",
        "\n",
        "print(\"\\nDescending Order:\")\n",
        "for document in desc_sorted_documents:\n",
        "    print(document)\n",
        "\n",
        "# Close the MongoDB connection\n",
        "client.close()"
      ],
      "metadata": {
        "id": "QQfLdUbe0sBC"
      },
      "execution_count": null,
      "outputs": []
    },
    {
      "cell_type": "markdown",
      "source": [
        "# Q7. Explain why delete_one(), delete_many(), and drop() is used."
      ],
      "metadata": {
        "id": "B1BdjXH705Qh"
      }
    },
    {
      "cell_type": "markdown",
      "source": [
        "In MongoDB, the delete_one(), delete_many(), and drop() methods are used for removing documents from a collection or dropping an entire collection.\n",
        "\n",
        "1. delete_one(filter): This method deletes a single document that matches the specified filter criteria."
      ],
      "metadata": {
        "id": "FkgB53e-06Z5"
      }
    },
    {
      "cell_type": "code",
      "source": [
        "from pymongo import MongoClient\n",
        "\n",
        "# Connect to MongoDB\n",
        "client = MongoClient(\"mongodb://localhost:27017/\")\n",
        "database = client[\"my_database\"]\n",
        "collection = database[\"students\"]\n",
        "\n",
        "# Inserting sample documents (optional)\n",
        "sample_documents = [\n",
        "    {\"name\": \"Alice\", \"score\": 85},\n",
        "    {\"name\": \"Bob\", \"score\": 92},\n",
        "    {\"name\": \"Charlie\", \"score\": 78},\n",
        "    {\"name\": \"David\", \"score\": 95}\n",
        "]\n",
        "collection.insert_many(sample_documents)\n",
        "\n",
        "# Deleting one document\n",
        "collection.delete_one({\"name\": \"Bob\"})\n",
        "\n",
        "# Print the remaining documents\n",
        "remaining_documents = collection.find()\n",
        "for document in remaining_documents:\n",
        "    print(document)\n",
        "\n",
        "# Close the MongoDB connection\n",
        "client.close()"
      ],
      "metadata": {
        "id": "vghIlCRz1PEW"
      },
      "execution_count": null,
      "outputs": []
    },
    {
      "cell_type": "markdown",
      "source": [
        "2. delete_many(filter): This method deletes all documents that match the specified filter criteria."
      ],
      "metadata": {
        "id": "FzGVeyPl1TnV"
      }
    },
    {
      "cell_type": "code",
      "source": [
        "from pymongo import MongoClient\n",
        "\n",
        "# Connect to MongoDB\n",
        "client = MongoClient(\"mongodb://localhost:27017/\")\n",
        "database = client[\"my_database\"]\n",
        "collection = database[\"students\"]\n",
        "\n",
        "# Inserting sample documents (optional)\n",
        "sample_documents = [\n",
        "    {\"name\": \"Alice\", \"score\": 85},\n",
        "    {\"name\": \"Bob\", \"score\": 92},\n",
        "    {\"name\": \"Charlie\", \"score\": 78},\n",
        "    {\"name\": \"David\", \"score\": 95}\n",
        "]\n",
        "collection.insert_many(sample_documents)\n",
        "\n",
        "# Deleting multiple documents\n",
        "collection.delete_many({\"score\": {\"$lt\": 80}})\n",
        "\n",
        "# Print the remaining documents\n",
        "remaining_documents = collection.find()\n",
        "for document in remaining_documents:\n",
        "    print(document)\n",
        "\n",
        "# Close the MongoDB connection\n",
        "client.close()"
      ],
      "metadata": {
        "id": "SU76OX0W1ZzY"
      },
      "execution_count": null,
      "outputs": []
    },
    {
      "cell_type": "markdown",
      "source": [
        "3. drop(): This method drops the entire collection, including all of its documents."
      ],
      "metadata": {
        "id": "TGoYFmUL1fC4"
      }
    },
    {
      "cell_type": "code",
      "source": [
        "from pymongo import MongoClient\n",
        "\n",
        "# Connect to MongoDB\n",
        "client = MongoClient(\"mongodb://localhost:27017/\")\n",
        "database = client[\"my_database\"]\n",
        "collection = database[\"students\"]\n",
        "\n",
        "# Inserting sample documents (optional)\n",
        "sample_documents = [\n",
        "    {\"name\": \"Alice\", \"score\": 85},\n",
        "    {\"name\": \"Bob\", \"score\": 92},\n",
        "    {\"name\": \"Charlie\", \"score\": 78},\n",
        "    {\"name\": \"David\", \"score\": 95}\n",
        "]\n",
        "collection.insert_many(sample_documents)\n",
        "\n",
        "# Drop the entire collection\n",
        "collection.drop()\n",
        "\n",
        "# Verify the collection is dropped\n",
        "existing_collections = database.list_collection_names()\n",
        "print(\"Remaining collections:\", existing_collections)\n",
        "\n",
        "# Close the MongoDB connection\n",
        "client.close()"
      ],
      "metadata": {
        "id": "vN0_-_ho1kOZ"
      },
      "execution_count": null,
      "outputs": []
    }
  ]
}