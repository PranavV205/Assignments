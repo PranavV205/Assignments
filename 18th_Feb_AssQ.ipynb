{
  "nbformat": 4,
  "nbformat_minor": 0,
  "metadata": {
    "colab": {
      "provenance": []
    },
    "kernelspec": {
      "name": "python3",
      "display_name": "Python 3"
    },
    "language_info": {
      "name": "python"
    }
  },
  "cells": [
    {
      "cell_type": "markdown",
      "source": [
        "#Q1. What is an API? Give an example, where an API is used in real life."
      ],
      "metadata": {
        "id": "hnYAh2P2_qVt"
      }
    },
    {
      "cell_type": "markdown",
      "source": [
        "An API is the interface that allows two independent software components to exchange information. An API acts as an intermediary between internal software functions and external ones, creating an exchange of information so seamless that it often goes unnoticed by the end user.\n",
        "\n",
        "Common examples of APIs:\n",
        "\n",
        "Sharing flight information between airlines and travel sites\n",
        "\n",
        "Using Google Maps in a rideshare app\n",
        "\n",
        "Building chatbots in a messaging service\n",
        "\n",
        "Embedding YouTube videos into a webpage\n",
        "\n",
        "Automating workflows between B2B software tools"
      ],
      "metadata": {
        "id": "lPD-Z1dE_26c"
      }
    },
    {
      "cell_type": "markdown",
      "source": [
        "#Q2. Give advantages and disadvantages of using API."
      ],
      "metadata": {
        "id": "r-63VdfAABCE"
      }
    },
    {
      "cell_type": "markdown",
      "source": [
        "Advantages of using API:\n",
        "\n",
        "1. Increased Visibility and Traffic: First, it allows you to share your data and functionality with a broader audience, increasing traffic and visibility for your website or app.\n",
        "2. Seamless Integration: It makes it easy to integrate with other applications and services, saving you time and money.\n",
        "3. Increased Efficiency: It allows you to access data and functionality without navigating multiple menus or screens. This can speed up the development process and make your app or website more user-friendly.\n",
        "4. Easier Maintenance: It reduces the amount of work needed on the back-end, making maintenance and updates more effortless and less time-consuming.\n",
        "5. Reduced Costs: It allows developers to reuse code and functionality in multiple applications, saving time and money.\n",
        "6. Improved Customer Experience: It makes it easier for users to access your data and functionality across multiple devices or platforms, improving the user experience and increasing customer satisfaction.\n",
        "\n",
        "Disadvantages of using API:\n",
        "\n",
        "1. Increased Complexity: First, they can be complex and challenging to use, making them challenging for novice developers.\n",
        "2. Limited Functionality: They may not have all the functionality you need, requiring additional development work.\n",
        "3. Dependency on Third Party Services: If it depends on a third-party service, your application will also be unavailable.\n",
        "4. Security and Privacy Risks: They can pose security and privacy risks if they’re not implemented correctly. Therefore, it’s essential to carefully consider these risks before using them in your application."
      ],
      "metadata": {
        "id": "XtlqA2gLAD7k"
      }
    },
    {
      "cell_type": "markdown",
      "source": [
        "#Q3. What is a Web API? Differentiate between API and Web API."
      ],
      "metadata": {
        "id": "kZ-4t7_cA-Qd"
      }
    },
    {
      "cell_type": "markdown",
      "source": [
        "A Web API is an application programming interface for the Web.\n",
        "\n",
        "The major difference between Web API and API is that protocols HTTP, SMTP, TCP are available in API but in Web API only HTTP is used."
      ],
      "metadata": {
        "id": "eIn5-r4NBCls"
      }
    },
    {
      "cell_type": "markdown",
      "source": [
        "#Q4. Explain REST and SOAP Architecture. Mention shortcomings of SOAP."
      ],
      "metadata": {
        "id": "UWXrtc4GBg3L"
      }
    },
    {
      "cell_type": "markdown",
      "source": [
        "REST:\n",
        "\n",
        "REST is an acronym for REpresentational State Transfer and an architectural style for distributed hypermedia systems. Like other architectural styles, REST has its guiding principles and constraints. These principles must be satisfied if a service interface needs to be referred to as RESTful.\n",
        "\n",
        "The six guiding principles or constraints of the RESTful architecture are:\n",
        "1. Uniform Interface\n",
        "2. Client-Server\n",
        "3. Stateless\n",
        "4. Cacheable\n",
        "5. Layered System\n",
        "6. Code on Demand\n",
        "\n",
        "\n",
        "SOAP:\n",
        "\n",
        "SOAP is a protocol for the exchange of information in a distributed environment. SOAP messages are encoded as XML documents and can be exchanged using various underlying protocols. SOAP is developed by the World Wide Web Consortium (W3C)\n",
        "\n",
        "\n",
        "Shortcomings of SOAP:\n",
        "1. As SOAP can only transfer messages as XML files, your SOAP API will be less performant, as XML is a verbose format compared to others. API calls made to your server will need more bandwidth and it will take more time to process the request and transfer the response back to the client\n",
        "2. In SOAP, the client-server communication depends on WSDL (Web Service Description Language) contracts, which implies tight coupling. Therefore, it’s not recommended for loosely coupled applications as you can’t opt out of using a contract between the client and the server.\n",
        "3. SOAP also has a higher learning curve, is harder to code, and can’t be tested in the web browser (as opposed to REST). With SOAP, you need to generate contracts in WSDL, create client stubs, follow strict specifications, and more. This also means that as a programmer, you’ll also have less freedom of choice."
      ],
      "metadata": {
        "id": "nPeBFIzkBjD7"
      }
    },
    {
      "cell_type": "markdown",
      "source": [
        "#Q5. Differentiate between REST and SOAP."
      ],
      "metadata": {
        "id": "IuX3nn5UDlHN"
      }
    },
    {
      "cell_type": "markdown",
      "source": [
        "REST Architechture:\n",
        "\n",
        "1. Simple Object Access Protocol\n",
        "2. SOAP is a protocol for commuication between applications\n",
        "3. Independent and can work with any transfer protocol\n",
        "4. Only supports XML data exchange\n",
        "5. Difficult to scale\n",
        "6. SOAP messages are larger, which makes communication slower.\n",
        "7. Supports encryption with additional overheads\n",
        "8. Useful in legacy applications and private APIs\n",
        "\n",
        "SOAP Architechture:\n",
        "\n",
        "1. Representational State Transfer\n",
        "2. Architechtural style for designing communication interfaces\n",
        "3. Only works with HTTPS\n",
        "4. Supports XML, JSON, plain text and HTML\n",
        "5. Easy to scale\n",
        "6. Faster performance due to smaller messages and caching support\n",
        "7. Supports encryption without affecting performance\n",
        "8. Useful in modern applications and public APIs"
      ],
      "metadata": {
        "id": "HQ6VGzG9DrJc"
      }
    }
  ]
}