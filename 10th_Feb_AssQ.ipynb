{
  "nbformat": 4,
  "nbformat_minor": 0,
  "metadata": {
    "colab": {
      "provenance": []
    },
    "kernelspec": {
      "name": "python3",
      "display_name": "Python 3"
    },
    "language_info": {
      "name": "python"
    }
  },
  "cells": [
    {
      "cell_type": "markdown",
      "source": [
        "# Q1. Which function is used to open a file? What are the different modes of opening a file? Explain each mode of file opening."
      ],
      "metadata": {
        "id": "FN0cxQCAmXzf"
      }
    },
    {
      "cell_type": "markdown",
      "source": [
        "The open() function is used to open a file in python.\n",
        "Modes of file opening:\n",
        "1. r : open a file for reading\n",
        "2. w : writing. creates a new file if it doesnt exist.\n",
        "3. a : used for appending at end of file\n",
        "4. b : open in binary mode\n",
        "5. t : open in text mode\n",
        "6. + : open a file for updating ( reading and writing)\n"
      ],
      "metadata": {
        "id": "MyWq08c9nAwE"
      }
    },
    {
      "cell_type": "markdown",
      "source": [
        "# Q2. Why close() function is used? Why is it important to close a file?"
      ],
      "metadata": {
        "id": "eVoUoOiPnswz"
      }
    },
    {
      "cell_type": "markdown",
      "source": [
        "The close() function is used to close a file. It is a standard practice to close an opened file as a closed file reduces the risk of being unwarrantedly modified or read. Closing a file is essential for proper resource management, as it releases system resources associated with the file. This is particularly crucial when dealing with a large number of files to avoid resource leaks and ensure efficient use of system resources."
      ],
      "metadata": {
        "id": "LeJD-6xIn3Ap"
      }
    },
    {
      "cell_type": "markdown",
      "source": [
        "# Q3. Write a python program to create a text file. Write ‘I want to become a Data Scientist’ in that file. Then close the file. Open this file and read the content of the file."
      ],
      "metadata": {
        "id": "-Izlw1nYoqwh"
      }
    },
    {
      "cell_type": "code",
      "execution_count": 2,
      "metadata": {
        "colab": {
          "base_uri": "https://localhost:8080/"
        },
        "id": "SOpBciLKmUSD",
        "outputId": "3928df7c-fb8c-4984-8e77-0ae836e0bc17"
      },
      "outputs": [
        {
          "output_type": "stream",
          "name": "stdout",
          "text": [
            "I want to become a Data Scientist\n"
          ]
        }
      ],
      "source": [
        "f = open('test.txt', 'w')\n",
        "f.write(\"I want to become a Data Scientist\")\n",
        "f.close\n",
        "with open('test.txt' , 'r') as f:\n",
        "  f.seek(0)\n",
        "  print(f.read())\n",
        "  f.close"
      ]
    },
    {
      "cell_type": "markdown",
      "source": [
        "# Q4. Explain the following with python code: read(), readline() and readlines()\n"
      ],
      "metadata": {
        "id": "QqK0QXncouca"
      }
    },
    {
      "cell_type": "markdown",
      "source": [
        "Let us take a sample test file:"
      ],
      "metadata": {
        "id": "8Lp96YnWpVMJ"
      }
    },
    {
      "cell_type": "code",
      "source": [
        "f = open('example.txt' , 'w')\n",
        "f.write('This is the first line\\n')\n",
        "f.write('This is the second  line\\n')\n",
        "f.write('Bye')\n",
        "f.close()"
      ],
      "metadata": {
        "id": "W0R40XSkpids"
      },
      "execution_count": 4,
      "outputs": []
    },
    {
      "cell_type": "markdown",
      "source": [
        "1. The read() method reads the entire content of a file as a single string. Here's an example:"
      ],
      "metadata": {
        "id": "5BJ35gHI0AKn"
      }
    },
    {
      "cell_type": "code",
      "source": [
        "with open(\"example.txt\", \"r\") as file:\n",
        "    content = file.read()\n",
        "    print(content)"
      ],
      "metadata": {
        "colab": {
          "base_uri": "https://localhost:8080/"
        },
        "id": "UHUfgF_x0Dno",
        "outputId": "768d489a-e0b2-4d52-9a19-7f39124e6430"
      },
      "execution_count": 5,
      "outputs": [
        {
          "output_type": "stream",
          "name": "stdout",
          "text": [
            "This is the first line\n",
            "This is the second  line\n",
            "Bye\n"
          ]
        }
      ]
    },
    {
      "cell_type": "markdown",
      "source": [
        "2. The readline() method reads a single line from the file. If called again, it will read the next line, and so on. Here's an example:"
      ],
      "metadata": {
        "id": "HWhr3UHY0HyI"
      }
    },
    {
      "cell_type": "code",
      "source": [
        "with open(\"example.txt\", \"r\") as file:\n",
        "    line1 = file.readline()\n",
        "    print(line1)\n",
        "\n",
        "    line2 = file.readline()\n",
        "    print(line2)"
      ],
      "metadata": {
        "colab": {
          "base_uri": "https://localhost:8080/"
        },
        "id": "xSJ9WQy-0MwQ",
        "outputId": "e63db6e0-4007-4ddd-f369-083f9c412661"
      },
      "execution_count": 6,
      "outputs": [
        {
          "output_type": "stream",
          "name": "stdout",
          "text": [
            "This is the first line\n",
            "\n",
            "This is the second  line\n",
            "\n"
          ]
        }
      ]
    },
    {
      "cell_type": "markdown",
      "source": [
        "3. The readlines() method reads all the lines of a file into a list. Each element of the list corresponds to a line from the file. Here's an example:"
      ],
      "metadata": {
        "id": "5m8pFOBw0SYQ"
      }
    },
    {
      "cell_type": "code",
      "source": [
        "with open(\"example.txt\", \"r\") as file:\n",
        "    lines = file.readlines()\n",
        "\n",
        "    for line in lines:\n",
        "        print(line)\n",
        "\n",
        "    print('\\n' ,lines)"
      ],
      "metadata": {
        "colab": {
          "base_uri": "https://localhost:8080/"
        },
        "id": "kC61JQ4A0WKg",
        "outputId": "346ec083-6ee3-4812-baaf-937bc9dc682c"
      },
      "execution_count": 9,
      "outputs": [
        {
          "output_type": "stream",
          "name": "stdout",
          "text": [
            "This is the first line\n",
            "\n",
            "This is the second  line\n",
            "\n",
            "Bye\n",
            "\n",
            " ['This is the first line\\n', 'This is the second  line\\n', 'Bye']\n"
          ]
        }
      ]
    },
    {
      "cell_type": "markdown",
      "source": [
        "# Q5. Explain why with statement is used with open(). What is the advantage of using with statement and open() together?"
      ],
      "metadata": {
        "id": "Qp_at4wN0idg"
      }
    },
    {
      "cell_type": "markdown",
      "source": [
        "\n",
        "The with statement is used in Python in conjunction with the open() function to simplify the process of working with files. The main advantage of using the with statement with open() is that it automatically takes care of resource management, specifically opening and closing the file, ensuring proper cleanup, and reducing the risk of resource leaks.\n",
        "\n",
        "When you use the with statement, you create a context in which the file operations take place. The with statement guarantees that the file will be properly closed after the indented block of code is executed, regardless of whether an exception occurs during the execution."
      ],
      "metadata": {
        "id": "H1B9x3mJ0tS7"
      }
    },
    {
      "cell_type": "markdown",
      "source": [
        "# Q6. Explain the write() and writelines() functions. Give a suitable example.\n"
      ],
      "metadata": {
        "id": "FEQ8fE4c00RP"
      }
    },
    {
      "cell_type": "markdown",
      "source": [
        "The write() function is used to write a string to a file. If the file does not exist, it will be created. If the file already exists, the write() function will overwrite its content. Here's an example:"
      ],
      "metadata": {
        "id": "cvf2K_L403FQ"
      }
    },
    {
      "cell_type": "code",
      "source": [
        "with open(\"example.txt\", \"w\") as file:\n",
        "\n",
        "    file.write(\"Hello, World!\\n\")\n",
        "    file.write(\"This is a sample file.\")"
      ],
      "metadata": {
        "id": "z8A4mbTs09Kl"
      },
      "execution_count": 10,
      "outputs": []
    },
    {
      "cell_type": "markdown",
      "source": [
        "The writelines() function is used to write a list of strings to a file. Each string in the list corresponds to a line in the file. Here's an example:"
      ],
      "metadata": {
        "id": "kp191lwM1CKZ"
      }
    },
    {
      "cell_type": "code",
      "source": [
        "with open(\"example.txt\", \"w\") as file:\n",
        "\n",
        "    lines = [\"First line\\n\", \"Second line\\n\", \"Third line\\n\"]\n",
        "    file.writelines(lines)"
      ],
      "metadata": {
        "id": "TMy6UNMy1FPY"
      },
      "execution_count": 11,
      "outputs": []
    }
  ]
}