{
  "nbformat": 4,
  "nbformat_minor": 0,
  "metadata": {
    "colab": {
      "provenance": []
    },
    "kernelspec": {
      "name": "python3",
      "display_name": "Python 3"
    },
    "language_info": {
      "name": "python"
    }
  },
  "cells": [
    {
      "cell_type": "markdown",
      "source": [
        "#Q1. What is a database? Differentiate between SQL and NoSQL databases."
      ],
      "metadata": {
        "id": "k8IfcNAkOX01"
      }
    },
    {
      "cell_type": "markdown",
      "source": [
        "A database is an organized collection of structured information, or data, typically stored electronically in a computer system. A database is usually controlled by a database management system (DBMS). Together, the data and the DBMS, along with the applications that are associated with them, are referred to as a database system, often shortened to just database\n",
        "\n",
        "1. SQL databases are relational, and NoSQL databases are non-relational.\n",
        "2. SQL databases use structured query language (SQL) and have a predefined schema. NoSQL databases have dynamic schemas for unstructured data.\n",
        "3. SQL databases are vertically scalable, while NoSQL databases are horizontally scalable.\n",
        "4. SQL databases are table-based, while NoSQL databases are document, key-value, graph, or wide-column stores.\n",
        "5. SQL databases are better for multi-row transactions, while NoSQL is better for unstructured data like documents or JSON."
      ],
      "metadata": {
        "id": "UjMcjeCEPNcG"
      }
    },
    {
      "cell_type": "markdown",
      "source": [
        "#Q2. What is DDL? Explain why CREATE, DROP, ALTER, and TRUNCATE are used with an example."
      ],
      "metadata": {
        "id": "BWAq7di2Ph7G"
      }
    },
    {
      "cell_type": "markdown",
      "source": [
        "Data Definition Language(DDL) is a subset of SQL and a part of DBMS(Database Management System). DDL consist of Commands to commands like CREATE, ALTER, TRUNCATE and DROP. These commands are used to create or modify the tables in SQL.\n",
        "\n",
        "CREATE :\n",
        "This command is used to create a new table in SQL. The user has to give information like table name, column names, and their datatypes.\n",
        "\n",
        "e.g CREATE TABLE table_name\n",
        "(\n",
        "column_1 datatype,\n",
        "column_2 datatype,\n",
        "column_3 datatype,\n",
        "....\n",
        ");\n",
        "\n",
        "ALTER :\n",
        "This command is used to add, delete or change columns in the existing table. The user needs to know the existing table name and can do add, delete or modify tasks easily.\n",
        "\n",
        "e.g ALTER TABLE table_name\n",
        "ADD column_name datatype;\n",
        "\n",
        "TRUNCATE :\n",
        "This command is used to remove all rows from the table, but the structure of the table still exists.\n",
        "\n",
        "e.g TRUNCATE TABLE table_name;\n",
        "\n",
        "DROP :\n",
        "This command is used to remove an existing table along with its structure from the Database.\n",
        "\n",
        "e.g DROP TABLE table_name;\n",
        "\n",
        "RENAME:It is possible to change name of table with or without data in it using simple RENAME command. We can rename any table object at any point of time.\n",
        "\n",
        "e.g RENAME TABLE table_name To new_table_name;\n"
      ],
      "metadata": {
        "id": "-tzBnGj5PyAV"
      }
    },
    {
      "cell_type": "markdown",
      "source": [
        "#Q3. What is DML? Explain INSERT, UPDATE, and DELETE with an example."
      ],
      "metadata": {
        "id": "U5t4tbvPQ2Tv"
      }
    },
    {
      "cell_type": "markdown",
      "source": [
        "DML stands for Data Manipulation Language. Tables and formulas are helpful when communicating with data stored up to a point in a database through SQL (Structured Query Language), but a time comes when we actually want to execute some fairly complicated data interactions. We will also need the Data Manipulation Language in that situation.\n",
        "\n",
        "\n",
        "INSERT Command:\n",
        "This command is used to enter the information or values into a row. We can connect one or more records to a single table within a repository using this instruction. This is often used to connect an unused tag to the documents.\n",
        "\n",
        "e.g INSERT INTO table_name ('column_name1' datatype, 'column_name2' datatype)\n",
        "VALUES ('value1', 'value2');\n",
        "\n",
        "UPDATE Command:\n",
        "This command is used to alter existing table records. Within a table, it modifies data from one or more records. This command is used to alter the data which is already present in a table.\n",
        "\n",
        "e.g UPDATE table_name\n",
        "SET column_name = value\n",
        "WHERE condition;\n",
        "\n",
        "DELETE Command\n",
        "It deletes all archives from a table. This command is used to erase some or all of the previous table’s records. If we do not specify the ‘WHERE’ condition then all the rows would be erased or deleted.\n",
        "\n",
        "e.g DELETE FROM table_name\n",
        "WHERE condition;"
      ],
      "metadata": {
        "id": "_WFf8gqqRrE3"
      }
    },
    {
      "cell_type": "markdown",
      "source": [
        "#Q4. What is DQL? Explain SELECT with an example."
      ],
      "metadata": {
        "id": "myRsV4jfTPl2"
      }
    },
    {
      "cell_type": "markdown",
      "source": [
        "DQL statements are used for performing queries on the data within schema objects. The purpose of the DQL Command is to get some schema relation based on the query passed to it. We can define DQL as follows - it is a component of SQL statement that allows getting data from the database and imposing order upon it. It includes the SELECT statement.\n",
        "\n",
        "e.g SELECT column1,column2 FROM table_name;"
      ],
      "metadata": {
        "id": "vSAyExrhTkLX"
      }
    },
    {
      "cell_type": "markdown",
      "source": [
        "#Q5. Explain Primary Key and Foreign Key."
      ],
      "metadata": {
        "id": "l1tDjWvsTwdu"
      }
    },
    {
      "cell_type": "markdown",
      "source": [
        "Primary Key:\n",
        "1. A primary key is used to ensure data in the specific column is unique.\n",
        "2. It uniquely identifies a record in the relational database table.\n",
        "3. Only one primary key is allowed in a table.\n",
        "4. It does not allow NULL values.\n",
        "5. Its value cannot be deleted from the parent table.\n",
        "\n",
        "\n",
        "Foreign Key:\n",
        "1. A foreign key is a column or group of columns in a relational database table that provides a link between data in two tables.\n",
        "2. It refers to the field in a table which is the primary key of another table.\n",
        "3. Whereas more than one foreign key is allowed in a table.\n",
        "4. It can also contain NULL values.\n",
        "5. Its value can be deleted from the child table."
      ],
      "metadata": {
        "id": "Tp60PYIUTxWN"
      }
    },
    {
      "cell_type": "markdown",
      "source": [
        "#Q6. Write a python code to connect MySQL to python. Explain the cursor() and execute() method."
      ],
      "metadata": {
        "id": "EmIOYZtCUNe_"
      }
    },
    {
      "cell_type": "code",
      "source": [
        "import mysql.connector\n",
        "\n",
        "mydb = mysql.connector.connect(\n",
        "    host = 'localhost'\n",
        "    user = 'abc'\n",
        "    password = 'password'\n",
        ")\n",
        "\n",
        "#Above code connects mysql to python"
      ],
      "metadata": {
        "id": "rSqjOyCQUcsA"
      },
      "execution_count": null,
      "outputs": []
    },
    {
      "cell_type": "markdown",
      "source": [
        "cursor() method is used to create a cursor object.\n",
        "\n",
        "execute() method accepts a MySQL query as a parameter and executes the given query\n",
        "\n",
        "fetchall() method retrieves all the rows in the result set of a query and returns them as list of tuples. (If we execute this after retrieving few rows it returns the remaining ones)\n",
        "\n",
        "fetchone() method fetches the next row in the result of a query and returns it as a tuple.\n",
        "\n",
        "fetchmany() method is similar to the fetchone() but, it retrieves the next set of rows in the result set of a query, instead of a single row.\n",
        "\n",
        "fetchwarnings() method returns the warnings generated by the last executed query.\n",
        "\n",
        "executemany() method accepts a list series of parameters list. Prepares an MySQL query and executes it with all the parameters.\n",
        "\n",
        "Info() method gives information about the last query.\n",
        "\n",
        "close() method is used to close the current cursor object.\n",
        "\n",
        "callproc() method is used to call existing procedures MySQL database."
      ],
      "metadata": {
        "id": "naEXBLA3U3vu"
      }
    },
    {
      "cell_type": "markdown",
      "source": [
        "#Q7. Give the order of execution of SQL clauses in an SQL query."
      ],
      "metadata": {
        "id": "KbuKXc2PWEbJ"
      }
    },
    {
      "cell_type": "markdown",
      "source": [
        "The order of execution of SQL clauses are as follows:\n",
        "1. FROM\n",
        "2. WHERE\n",
        "3. GROUP BY\n",
        "4. HAVING\n",
        "5. SELECT\n",
        "6. ORDER BY\n",
        "7. LIMIT"
      ],
      "metadata": {
        "id": "yOf4WZqRWMTX"
      }
    }
  ]
}