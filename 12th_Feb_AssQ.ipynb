{
  "nbformat": 4,
  "nbformat_minor": 0,
  "metadata": {
    "colab": {
      "provenance": []
    },
    "kernelspec": {
      "name": "python3",
      "display_name": "Python 3"
    },
    "language_info": {
      "name": "python"
    }
  },
  "cells": [
    {
      "cell_type": "markdown",
      "source": [
        "# Q1. What is an Exception in python? Write the differene between Exceptions and Syntax errors."
      ],
      "metadata": {
        "id": "b5UuTTO72XU2"
      }
    },
    {
      "cell_type": "markdown",
      "source": [
        "In Python, an exception is an event that occurs during the execution of a program that disrupts the normal flow of instructions. When an exceptional situation arises, the program raises an exception, which can be caught and handled by appropriate code. Exceptions provide a mechanism for dealing with errors, unexpected situations, or exceptional conditions that may occur during the execution of a program.\n",
        "\n",
        "Here's a brief distinction between exceptions and syntax errors:\n",
        "\n",
        "Exceptions:\n",
        "\n",
        "Exceptions occur during the runtime (execution) of a program.\n",
        "\n",
        "\n",
        "They are typically caused by events outside the control of the program, such as invalid user input, file not found, network issues, etc.\n",
        "\n",
        "\n",
        "Examples of built-in exceptions include ZeroDivisionError, FileNotFoundError, TypeError, etc.\n",
        "\n",
        "\n",
        "Exception handling is used to catch and respond to these runtime errors, preventing the program from terminating abruptly.\n",
        "\n",
        "\n",
        "Syntax Errors:\n",
        "\n",
        "Syntax errors occur during the parsing (interpretation) of the program, before it is executed.\n",
        "\n",
        "\n",
        "They are caused by violations of the programming language's syntax rules. Examples include missing colons, incorrect indentation, or using an undefined variable.\n",
        "\n",
        "\n",
        "The program cannot run until syntax errors are fixed because they prevent the interpreter from understanding the code.\n",
        "\n",
        "\n",
        "Syntax errors are usually detected by the Python interpreter before the program starts executing."
      ],
      "metadata": {
        "id": "9ixPVGxM2jBu"
      }
    },
    {
      "cell_type": "markdown",
      "source": [
        "# Q2. What happens when an exception is not handled? Explain with an example."
      ],
      "metadata": {
        "id": "ipdxKiXG3C5d"
      }
    },
    {
      "cell_type": "markdown",
      "source": [
        "When an exception is not handled in Python, it results in the termination of the program's normal execution, and an error message, including details about the unhandled exception, is displayed. This termination is often accompanied by a traceback, which is a list of function calls that led to the point where the unhandled exception occurred.\n",
        "\n",
        "Here's an example to illustrate what happens when an exception is not handled:"
      ],
      "metadata": {
        "id": "7Se8V09D3UJl"
      }
    },
    {
      "cell_type": "code",
      "execution_count": 1,
      "metadata": {
        "colab": {
          "base_uri": "https://localhost:8080/",
          "height": 227
        },
        "id": "VAc0bMpN2UUg",
        "outputId": "d20e7c27-38e4-4927-a9e0-d475324efe2a"
      },
      "outputs": [
        {
          "output_type": "error",
          "ename": "ZeroDivisionError",
          "evalue": "ignored",
          "traceback": [
            "\u001b[0;31m---------------------------------------------------------------------------\u001b[0m",
            "\u001b[0;31mZeroDivisionError\u001b[0m                         Traceback (most recent call last)",
            "\u001b[0;32m<ipython-input-1-1489785fc854>\u001b[0m in \u001b[0;36m<cell line: 4>\u001b[0;34m()\u001b[0m\n\u001b[1;32m      2\u001b[0m \u001b[0mdenominator\u001b[0m \u001b[0;34m=\u001b[0m \u001b[0;36m0\u001b[0m\u001b[0;34m\u001b[0m\u001b[0;34m\u001b[0m\u001b[0m\n\u001b[1;32m      3\u001b[0m \u001b[0;34m\u001b[0m\u001b[0m\n\u001b[0;32m----> 4\u001b[0;31m \u001b[0mresult\u001b[0m \u001b[0;34m=\u001b[0m \u001b[0mnumerator\u001b[0m \u001b[0;34m/\u001b[0m \u001b[0mdenominator\u001b[0m\u001b[0;34m\u001b[0m\u001b[0;34m\u001b[0m\u001b[0m\n\u001b[0m\u001b[1;32m      5\u001b[0m \u001b[0mprint\u001b[0m\u001b[0;34m(\u001b[0m\u001b[0;34m\"Result:\"\u001b[0m\u001b[0;34m,\u001b[0m \u001b[0mresult\u001b[0m\u001b[0;34m)\u001b[0m\u001b[0;34m\u001b[0m\u001b[0;34m\u001b[0m\u001b[0m\n",
            "\u001b[0;31mZeroDivisionError\u001b[0m: division by zero"
          ]
        }
      ],
      "source": [
        "numerator = 10\n",
        "denominator = 0\n",
        "\n",
        "result = numerator / denominator  # This line will raise a ZeroDivisionError\n",
        "print(\"Result:\", result)  # This line will not be executed if an exception occurs\n"
      ]
    },
    {
      "cell_type": "markdown",
      "source": [
        "In this example, the attempt to divide numerator by denominator will raise a ZeroDivisionError because division by zero is undefined. Since there is no exception handling in place, the program will terminate, and an error message will be displayed"
      ],
      "metadata": {
        "id": "hXMf8ac63lAF"
      }
    },
    {
      "cell_type": "markdown",
      "source": [
        "# Q3. Which Python statements are used to catch and handle exceptions? Explain with an example."
      ],
      "metadata": {
        "id": "IX-mr9If3ptt"
      }
    },
    {
      "cell_type": "markdown",
      "source": [
        "In Python, the try, except, else, and finally statements are used to catch and handle exceptions.\n",
        "\n",
        "Example:\n"
      ],
      "metadata": {
        "id": "JNOg1lbZ373U"
      }
    },
    {
      "cell_type": "code",
      "source": [
        "try:\n",
        "  f = open('test.txt')\n",
        "except FileNotFoundError as e:\n",
        "  print(e)\n",
        "else:\n",
        "  print(f.read())\n",
        "  f.close()\n",
        "finally:\n",
        "  print(\"Executing finally...\")"
      ],
      "metadata": {
        "colab": {
          "base_uri": "https://localhost:8080/"
        },
        "id": "ASBe8_a84A_V",
        "outputId": "e779e722-6a7b-4194-ac1f-5b4f04828b8e"
      },
      "execution_count": 4,
      "outputs": [
        {
          "output_type": "stream",
          "name": "stdout",
          "text": [
            "[Errno 2] No such file or directory: 'test.txt'\n",
            "Executing finally...\n"
          ]
        }
      ]
    },
    {
      "cell_type": "markdown",
      "source": [
        "The try block encloses the code that might raise an exception.\n",
        "\n",
        "The except block contains the code that is executed if a specified exception occurs in the try block.\n",
        "\n",
        "Multiple except blocks can be used to handle different types of exceptions.\n",
        "\n",
        "The else block, when present, is executed if no exceptions occur in the try block.\n",
        "\n",
        "It is optional and follows all the except blocks.\n",
        "\n",
        "The finally block, when present, is always executed, regardless of whether an exception occurred or not.\n",
        "\n",
        "It is useful for cleanup actions, such as closing files or releasing resources."
      ],
      "metadata": {
        "id": "UMWuls1-4gI0"
      }
    },
    {
      "cell_type": "markdown",
      "source": [
        "# Q4. Explain with example: a) try and else b) finally c) raise\n",
        "\n",
        "\n"
      ],
      "metadata": {
        "id": "X9YDsUKS4zDs"
      }
    },
    {
      "cell_type": "markdown",
      "source": [
        "a) The try block encloses the code that might raise an exception."
      ],
      "metadata": {
        "id": "1zvnccbV4-ws"
      }
    },
    {
      "cell_type": "code",
      "source": [
        "try:\n",
        "    # Code that might raise an exception\n",
        "    numerator = 10\n",
        "    denominator = 2\n",
        "    result = numerator / denominator\n",
        "except ZeroDivisionError:\n",
        "    # Handling the specific exception\n",
        "    print(\"Error: Division by zero is not allowed.\")\n",
        "else:\n",
        "    # Executed if no exception occurs\n",
        "    print(\"Result:\", result)"
      ],
      "metadata": {
        "id": "CVXpgsJT5LCr"
      },
      "execution_count": null,
      "outputs": []
    },
    {
      "cell_type": "markdown",
      "source": [
        "b) The finally block, when present, is always executed, regardless of whether an exception occurred or not."
      ],
      "metadata": {
        "id": "DnLZIzFC5Oly"
      }
    },
    {
      "cell_type": "code",
      "source": [
        "try:\n",
        "    # Code that might raise an exception\n",
        "    file = open(\"example.txt\", \"r\")\n",
        "    # Perform operations on the file\n",
        "except FileNotFoundError:\n",
        "    # Handling the specific exception\n",
        "    print(\"Error: File not found.\")\n",
        "finally:\n",
        "    # Always executed, even if an exception occurred\n",
        "    if 'file' in locals():\n",
        "        file.close()"
      ],
      "metadata": {
        "id": "-jj0Qvu25XQq"
      },
      "execution_count": null,
      "outputs": []
    },
    {
      "cell_type": "markdown",
      "source": [
        "c) The raise keyword in Python is used to explicitly raise an exception. It allows a programmer to signal that a specific error condition has occurred, even if it's not automatically detected by the interpreter"
      ],
      "metadata": {
        "id": "b3jthgTf5aPi"
      }
    },
    {
      "cell_type": "code",
      "source": [
        "def validate_age(age):\n",
        "    if age < 0:\n",
        "        raise ValueError(\"Age cannot be negative.\")\n",
        "    elif age < 18:\n",
        "        print(\"You are a minor.\")\n",
        "    else:\n",
        "        print(\"You are an adult.\")\n",
        "\n",
        "# Example usage\n",
        "try:\n",
        "    user_age = int(input(\"Enter your age: \"))\n",
        "    validate_age(user_age)\n",
        "except ValueError as ve:\n",
        "    print(f\"Error: {ve}\")"
      ],
      "metadata": {
        "id": "mgbSgwib5mdT"
      },
      "execution_count": null,
      "outputs": []
    },
    {
      "cell_type": "markdown",
      "source": [
        "# Q5. What are custom Exceptions in python? Why do we need Custom Exceptions? Explain with example."
      ],
      "metadata": {
        "id": "u5oTCkac5pBT"
      }
    },
    {
      "cell_type": "markdown",
      "source": [
        "In Python, custom exceptions are user-defined exception classes that extend the built-in Exception class or its subclasses. By creating custom exceptions, developers can define their own types of errors or exceptional conditions specific to their application. This allows for more meaningful and descriptive error messages, making it easier to identify and handle different error scenarios in a program.\n",
        "\n",
        "We require custom exceptions for clarity, readablility, modularity and abstraction."
      ],
      "metadata": {
        "id": "0RVy8u8e53Wj"
      }
    },
    {
      "cell_type": "code",
      "source": [
        "class WithdrawalError(Exception):\n",
        "    \"\"\"Custom exception for invalid withdrawal.\"\"\"\n",
        "    def __init__(self, balance, amount):\n",
        "        self.balance = balance\n",
        "        self.amount = amount\n",
        "        super().__init__(f\"Invalid withdrawal: Balance ({balance}) is less than withdrawal amount ({amount}).\")\n",
        "\n",
        "\n",
        "def make_withdrawal(balance, amount):\n",
        "    if amount > balance:\n",
        "        raise WithdrawalError(balance, amount)\n",
        "    # Perform withdrawal logic\n",
        "\n",
        "\n",
        "# Example usage\n",
        "try:\n",
        "    account_balance = 1000\n",
        "    withdrawal_amount = 1500\n",
        "    make_withdrawal(account_balance, withdrawal_amount)\n",
        "except WithdrawalError as we:\n",
        "    print(f\"Error: {we}\")"
      ],
      "metadata": {
        "colab": {
          "base_uri": "https://localhost:8080/"
        },
        "id": "jNqUjH766IkD",
        "outputId": "98485e4b-2fad-4d22-d8ce-8c4bdbbebb18"
      },
      "execution_count": 7,
      "outputs": [
        {
          "output_type": "stream",
          "name": "stdout",
          "text": [
            "Error: Invalid withdrawal: Balance (1000) is less than withdrawal amount (1500).\n"
          ]
        }
      ]
    },
    {
      "cell_type": "markdown",
      "source": [
        "# Q6. Create a custom exception class. Use this class to handle an exception."
      ],
      "metadata": {
        "id": "-6HiAZLY7srQ"
      }
    },
    {
      "cell_type": "code",
      "source": [
        "class InvalidInputError(Exception):\n",
        "    \"\"\"Custom exception for invalid input.\"\"\"\n",
        "    def __init__(self, input_value):\n",
        "        self.input_value = input_value\n",
        "        super().__init__(f\"Invalid input: {input_value}\")\n",
        "\n",
        "\n",
        "def process_input(value):\n",
        "    if not isinstance(value, int):\n",
        "        raise InvalidInputError(value)\n",
        "    # Process the input if it's valid\n",
        "\n",
        "\n",
        "# Example usage\n",
        "try:\n",
        "    user_input = \"abc\"\n",
        "    process_input(user_input)\n",
        "except InvalidInputError as iie:\n",
        "    print(f\"Error: {iie}\")"
      ],
      "metadata": {
        "colab": {
          "base_uri": "https://localhost:8080/"
        },
        "id": "nIdqQl0Y71GR",
        "outputId": "cd2ea53d-7a2d-4182-d5b2-4156457d274a"
      },
      "execution_count": 8,
      "outputs": [
        {
          "output_type": "stream",
          "name": "stdout",
          "text": [
            "Error: Invalid input: abc\n"
          ]
        }
      ]
    }
  ]
}