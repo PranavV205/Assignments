{
  "nbformat": 4,
  "nbformat_minor": 0,
  "metadata": {
    "colab": {
      "provenance": []
    },
    "kernelspec": {
      "name": "python3",
      "display_name": "Python 3"
    },
    "language_info": {
      "name": "python"
    }
  },
  "cells": [
    {
      "cell_type": "markdown",
      "source": [
        "#Q1. Create a Pandas Series that contains the following data: 4, 8, 15, 16, 23, and 42. Then, print the series."
      ],
      "metadata": {
        "id": "1u79uSW7BNlb"
      }
    },
    {
      "cell_type": "code",
      "execution_count": 1,
      "metadata": {
        "id": "Pf0NlM9WBEN3"
      },
      "outputs": [],
      "source": [
        "import pandas as pd"
      ]
    },
    {
      "cell_type": "code",
      "source": [
        "s1 = pd.Series([4,8,15,16,23,42])\n",
        "s1"
      ],
      "metadata": {
        "colab": {
          "base_uri": "https://localhost:8080/"
        },
        "id": "p6U8AidHBTqS",
        "outputId": "49560b4e-14f2-4ce6-fd0d-d47c47b094c0"
      },
      "execution_count": 4,
      "outputs": [
        {
          "output_type": "execute_result",
          "data": {
            "text/plain": [
              "0     4\n",
              "1     8\n",
              "2    15\n",
              "3    16\n",
              "4    23\n",
              "5    42\n",
              "dtype: int64"
            ]
          },
          "metadata": {},
          "execution_count": 4
        }
      ]
    },
    {
      "cell_type": "markdown",
      "source": [
        "#Q2. Create a variable of list type containing 10 elements in it, and apply pandas.Series function on the variable print it."
      ],
      "metadata": {
        "id": "5hyquQXuBi2z"
      }
    },
    {
      "cell_type": "code",
      "source": [
        "l1 = [1,2,3,4,55,6,7,88,7,7,]\n",
        "s2 = pd.Series(l1)\n",
        "s2"
      ],
      "metadata": {
        "colab": {
          "base_uri": "https://localhost:8080/"
        },
        "id": "kgKU_g10BnjE",
        "outputId": "6bc384f1-2987-497c-cd23-f193c4b106fe"
      },
      "execution_count": 5,
      "outputs": [
        {
          "output_type": "execute_result",
          "data": {
            "text/plain": [
              "0     1\n",
              "1     2\n",
              "2     3\n",
              "3     4\n",
              "4    55\n",
              "5     6\n",
              "6     7\n",
              "7    88\n",
              "8     7\n",
              "9     7\n",
              "dtype: int64"
            ]
          },
          "metadata": {},
          "execution_count": 5
        }
      ]
    },
    {
      "cell_type": "markdown",
      "source": [
        "#Q3. Create a Pandas DataFrame that contains the following data:\n",
        "\n",
        "![image.png](data:image/png;base64,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)\n",
        "\n",
        "#Then, print the DataFrame.\n"
      ],
      "metadata": {
        "id": "1ng6mr0dB8-T"
      }
    },
    {
      "cell_type": "code",
      "source": [
        "df1 = pd.DataFrame({'Name': ['Alice', 'Bob', 'Claire'],\n",
        "       'Age': [25, 30, 27],\n",
        "       'Gender': ['Female', 'Male',  'Female']})\n",
        "print(df1)"
      ],
      "metadata": {
        "colab": {
          "base_uri": "https://localhost:8080/"
        },
        "id": "pMzBF68YCQKj",
        "outputId": "62399ee0-c3b4-4ff1-c043-b9ddd563bb45"
      },
      "execution_count": 8,
      "outputs": [
        {
          "output_type": "stream",
          "name": "stdout",
          "text": [
            "     Name  Age  Gender\n",
            "0   Alice   25  Female\n",
            "1     Bob   30    Male\n",
            "2  Claire   27  Female\n"
          ]
        },
        {
          "output_type": "execute_result",
          "data": {
            "text/plain": [
              "pandas.core.frame.DataFrame"
            ]
          },
          "metadata": {},
          "execution_count": 8
        }
      ]
    },
    {
      "cell_type": "markdown",
      "source": [
        "#Q4. What is ‘DataFrame’ in pandas and how is it different from pandas.series? Explain with an example."
      ],
      "metadata": {
        "id": "-hpM2wcfDQmq"
      }
    },
    {
      "cell_type": "markdown",
      "source": [
        "Dataframe:\n",
        "1. Two-dimensional\n",
        "2. Heterogenous – DataFrame elements can have different data types\n",
        "3. Size-mutable – Elements can be dropped or added in an existing DataFrame\n",
        "\n",
        "Series:\n",
        "1. One-dimensional\n",
        "2. Homogenous – Series elements must be of the same data type\n",
        "3. Size-immutable – Once created, the size of a Series object cannot be changed"
      ],
      "metadata": {
        "id": "1O4svcUbDN-S"
      }
    },
    {
      "cell_type": "code",
      "source": [
        "#Creating a DataFrame from a dictionary of Series\n",
        "data = pd.DataFrame({\n",
        "    \"Class 1\": pd.Series([22, 33, 38], index=[\"math avg\", \"science avg\",  \"english avg\"]),\n",
        "    \"Class 2\": pd.Series([45, 28, 36], index=[\"math avg\", \"science avg\",  \"english avg\"]),\n",
        "    \"Class 3\": pd.Series([32, 41, 47], index=[\"math avg\", \"science avg\",  \"english avg\"])\n",
        "})\n",
        "data"
      ],
      "metadata": {
        "colab": {
          "base_uri": "https://localhost:8080/",
          "height": 143
        },
        "id": "EqRK_fEyD9zv",
        "outputId": "6c435c22-c5be-4e87-872e-07adf46ae1cf"
      },
      "execution_count": 9,
      "outputs": [
        {
          "output_type": "execute_result",
          "data": {
            "text/plain": [
              "             Class 1  Class 2  Class 3\n",
              "math avg          22       45       32\n",
              "science avg       33       28       41\n",
              "english avg       38       36       47"
            ],
            "text/html": [
              "\n",
              "  <div id=\"df-74d1fba6-5823-4317-8ec5-eeccb80f43c7\" class=\"colab-df-container\">\n",
              "    <div>\n",
              "<style scoped>\n",
              "    .dataframe tbody tr th:only-of-type {\n",
              "        vertical-align: middle;\n",
              "    }\n",
              "\n",
              "    .dataframe tbody tr th {\n",
              "        vertical-align: top;\n",
              "    }\n",
              "\n",
              "    .dataframe thead th {\n",
              "        text-align: right;\n",
              "    }\n",
              "</style>\n",
              "<table border=\"1\" class=\"dataframe\">\n",
              "  <thead>\n",
              "    <tr style=\"text-align: right;\">\n",
              "      <th></th>\n",
              "      <th>Class 1</th>\n",
              "      <th>Class 2</th>\n",
              "      <th>Class 3</th>\n",
              "    </tr>\n",
              "  </thead>\n",
              "  <tbody>\n",
              "    <tr>\n",
              "      <th>math avg</th>\n",
              "      <td>22</td>\n",
              "      <td>45</td>\n",
              "      <td>32</td>\n",
              "    </tr>\n",
              "    <tr>\n",
              "      <th>science avg</th>\n",
              "      <td>33</td>\n",
              "      <td>28</td>\n",
              "      <td>41</td>\n",
              "    </tr>\n",
              "    <tr>\n",
              "      <th>english avg</th>\n",
              "      <td>38</td>\n",
              "      <td>36</td>\n",
              "      <td>47</td>\n",
              "    </tr>\n",
              "  </tbody>\n",
              "</table>\n",
              "</div>\n",
              "    <div class=\"colab-df-buttons\">\n",
              "\n",
              "  <div class=\"colab-df-container\">\n",
              "    <button class=\"colab-df-convert\" onclick=\"convertToInteractive('df-74d1fba6-5823-4317-8ec5-eeccb80f43c7')\"\n",
              "            title=\"Convert this dataframe to an interactive table.\"\n",
              "            style=\"display:none;\">\n",
              "\n",
              "  <svg xmlns=\"http://www.w3.org/2000/svg\" height=\"24px\" viewBox=\"0 -960 960 960\">\n",
              "    <path d=\"M120-120v-720h720v720H120Zm60-500h600v-160H180v160Zm220 220h160v-160H400v160Zm0 220h160v-160H400v160ZM180-400h160v-160H180v160Zm440 0h160v-160H620v160ZM180-180h160v-160H180v160Zm440 0h160v-160H620v160Z\"/>\n",
              "  </svg>\n",
              "    </button>\n",
              "\n",
              "  <style>\n",
              "    .colab-df-container {\n",
              "      display:flex;\n",
              "      gap: 12px;\n",
              "    }\n",
              "\n",
              "    .colab-df-convert {\n",
              "      background-color: #E8F0FE;\n",
              "      border: none;\n",
              "      border-radius: 50%;\n",
              "      cursor: pointer;\n",
              "      display: none;\n",
              "      fill: #1967D2;\n",
              "      height: 32px;\n",
              "      padding: 0 0 0 0;\n",
              "      width: 32px;\n",
              "    }\n",
              "\n",
              "    .colab-df-convert:hover {\n",
              "      background-color: #E2EBFA;\n",
              "      box-shadow: 0px 1px 2px rgba(60, 64, 67, 0.3), 0px 1px 3px 1px rgba(60, 64, 67, 0.15);\n",
              "      fill: #174EA6;\n",
              "    }\n",
              "\n",
              "    .colab-df-buttons div {\n",
              "      margin-bottom: 4px;\n",
              "    }\n",
              "\n",
              "    [theme=dark] .colab-df-convert {\n",
              "      background-color: #3B4455;\n",
              "      fill: #D2E3FC;\n",
              "    }\n",
              "\n",
              "    [theme=dark] .colab-df-convert:hover {\n",
              "      background-color: #434B5C;\n",
              "      box-shadow: 0px 1px 3px 1px rgba(0, 0, 0, 0.15);\n",
              "      filter: drop-shadow(0px 1px 2px rgba(0, 0, 0, 0.3));\n",
              "      fill: #FFFFFF;\n",
              "    }\n",
              "  </style>\n",
              "\n",
              "    <script>\n",
              "      const buttonEl =\n",
              "        document.querySelector('#df-74d1fba6-5823-4317-8ec5-eeccb80f43c7 button.colab-df-convert');\n",
              "      buttonEl.style.display =\n",
              "        google.colab.kernel.accessAllowed ? 'block' : 'none';\n",
              "\n",
              "      async function convertToInteractive(key) {\n",
              "        const element = document.querySelector('#df-74d1fba6-5823-4317-8ec5-eeccb80f43c7');\n",
              "        const dataTable =\n",
              "          await google.colab.kernel.invokeFunction('convertToInteractive',\n",
              "                                                    [key], {});\n",
              "        if (!dataTable) return;\n",
              "\n",
              "        const docLinkHtml = 'Like what you see? Visit the ' +\n",
              "          '<a target=\"_blank\" href=https://colab.research.google.com/notebooks/data_table.ipynb>data table notebook</a>'\n",
              "          + ' to learn more about interactive tables.';\n",
              "        element.innerHTML = '';\n",
              "        dataTable['output_type'] = 'display_data';\n",
              "        await google.colab.output.renderOutput(dataTable, element);\n",
              "        const docLink = document.createElement('div');\n",
              "        docLink.innerHTML = docLinkHtml;\n",
              "        element.appendChild(docLink);\n",
              "      }\n",
              "    </script>\n",
              "  </div>\n",
              "\n",
              "\n",
              "<div id=\"df-36ba866e-8d45-4869-bbbe-f1aaaf878462\">\n",
              "  <button class=\"colab-df-quickchart\" onclick=\"quickchart('df-36ba866e-8d45-4869-bbbe-f1aaaf878462')\"\n",
              "            title=\"Suggest charts.\"\n",
              "            style=\"display:none;\">\n",
              "\n",
              "<svg xmlns=\"http://www.w3.org/2000/svg\" height=\"24px\"viewBox=\"0 0 24 24\"\n",
              "     width=\"24px\">\n",
              "    <g>\n",
              "        <path d=\"M19 3H5c-1.1 0-2 .9-2 2v14c0 1.1.9 2 2 2h14c1.1 0 2-.9 2-2V5c0-1.1-.9-2-2-2zM9 17H7v-7h2v7zm4 0h-2V7h2v10zm4 0h-2v-4h2v4z\"/>\n",
              "    </g>\n",
              "</svg>\n",
              "  </button>\n",
              "\n",
              "<style>\n",
              "  .colab-df-quickchart {\n",
              "      --bg-color: #E8F0FE;\n",
              "      --fill-color: #1967D2;\n",
              "      --hover-bg-color: #E2EBFA;\n",
              "      --hover-fill-color: #174EA6;\n",
              "      --disabled-fill-color: #AAA;\n",
              "      --disabled-bg-color: #DDD;\n",
              "  }\n",
              "\n",
              "  [theme=dark] .colab-df-quickchart {\n",
              "      --bg-color: #3B4455;\n",
              "      --fill-color: #D2E3FC;\n",
              "      --hover-bg-color: #434B5C;\n",
              "      --hover-fill-color: #FFFFFF;\n",
              "      --disabled-bg-color: #3B4455;\n",
              "      --disabled-fill-color: #666;\n",
              "  }\n",
              "\n",
              "  .colab-df-quickchart {\n",
              "    background-color: var(--bg-color);\n",
              "    border: none;\n",
              "    border-radius: 50%;\n",
              "    cursor: pointer;\n",
              "    display: none;\n",
              "    fill: var(--fill-color);\n",
              "    height: 32px;\n",
              "    padding: 0;\n",
              "    width: 32px;\n",
              "  }\n",
              "\n",
              "  .colab-df-quickchart:hover {\n",
              "    background-color: var(--hover-bg-color);\n",
              "    box-shadow: 0 1px 2px rgba(60, 64, 67, 0.3), 0 1px 3px 1px rgba(60, 64, 67, 0.15);\n",
              "    fill: var(--button-hover-fill-color);\n",
              "  }\n",
              "\n",
              "  .colab-df-quickchart-complete:disabled,\n",
              "  .colab-df-quickchart-complete:disabled:hover {\n",
              "    background-color: var(--disabled-bg-color);\n",
              "    fill: var(--disabled-fill-color);\n",
              "    box-shadow: none;\n",
              "  }\n",
              "\n",
              "  .colab-df-spinner {\n",
              "    border: 2px solid var(--fill-color);\n",
              "    border-color: transparent;\n",
              "    border-bottom-color: var(--fill-color);\n",
              "    animation:\n",
              "      spin 1s steps(1) infinite;\n",
              "  }\n",
              "\n",
              "  @keyframes spin {\n",
              "    0% {\n",
              "      border-color: transparent;\n",
              "      border-bottom-color: var(--fill-color);\n",
              "      border-left-color: var(--fill-color);\n",
              "    }\n",
              "    20% {\n",
              "      border-color: transparent;\n",
              "      border-left-color: var(--fill-color);\n",
              "      border-top-color: var(--fill-color);\n",
              "    }\n",
              "    30% {\n",
              "      border-color: transparent;\n",
              "      border-left-color: var(--fill-color);\n",
              "      border-top-color: var(--fill-color);\n",
              "      border-right-color: var(--fill-color);\n",
              "    }\n",
              "    40% {\n",
              "      border-color: transparent;\n",
              "      border-right-color: var(--fill-color);\n",
              "      border-top-color: var(--fill-color);\n",
              "    }\n",
              "    60% {\n",
              "      border-color: transparent;\n",
              "      border-right-color: var(--fill-color);\n",
              "    }\n",
              "    80% {\n",
              "      border-color: transparent;\n",
              "      border-right-color: var(--fill-color);\n",
              "      border-bottom-color: var(--fill-color);\n",
              "    }\n",
              "    90% {\n",
              "      border-color: transparent;\n",
              "      border-bottom-color: var(--fill-color);\n",
              "    }\n",
              "  }\n",
              "</style>\n",
              "\n",
              "  <script>\n",
              "    async function quickchart(key) {\n",
              "      const quickchartButtonEl =\n",
              "        document.querySelector('#' + key + ' button');\n",
              "      quickchartButtonEl.disabled = true;  // To prevent multiple clicks.\n",
              "      quickchartButtonEl.classList.add('colab-df-spinner');\n",
              "      try {\n",
              "        const charts = await google.colab.kernel.invokeFunction(\n",
              "            'suggestCharts', [key], {});\n",
              "      } catch (error) {\n",
              "        console.error('Error during call to suggestCharts:', error);\n",
              "      }\n",
              "      quickchartButtonEl.classList.remove('colab-df-spinner');\n",
              "      quickchartButtonEl.classList.add('colab-df-quickchart-complete');\n",
              "    }\n",
              "    (() => {\n",
              "      let quickchartButtonEl =\n",
              "        document.querySelector('#df-36ba866e-8d45-4869-bbbe-f1aaaf878462 button');\n",
              "      quickchartButtonEl.style.display =\n",
              "        google.colab.kernel.accessAllowed ? 'block' : 'none';\n",
              "    })();\n",
              "  </script>\n",
              "</div>\n",
              "    </div>\n",
              "  </div>\n"
            ]
          },
          "metadata": {},
          "execution_count": 9
        }
      ]
    },
    {
      "cell_type": "code",
      "source": [
        "#Creating a Series from dict\n",
        "data = {'Mon': 22, 'Tues': 23, 'Wed': 23, 'Thurs': 24, 'Fri': 23, 'Sat': 22, 'Sun': 21}\n",
        "series = pd.Series(data=data, name='series_from_dict')\n",
        "print(series)"
      ],
      "metadata": {
        "colab": {
          "base_uri": "https://localhost:8080/"
        },
        "id": "ID9AdT81EAuE",
        "outputId": "152d2f18-55b6-404a-981a-c32d7d618dfc"
      },
      "execution_count": 10,
      "outputs": [
        {
          "output_type": "stream",
          "name": "stdout",
          "text": [
            "Mon      22\n",
            "Tues     23\n",
            "Wed      23\n",
            "Thurs    24\n",
            "Fri      23\n",
            "Sat      22\n",
            "Sun      21\n",
            "Name: series_from_dict, dtype: int64\n"
          ]
        }
      ]
    },
    {
      "cell_type": "markdown",
      "source": [
        "#Q5. What are some common functions you can use to manipulate data in a Pandas DataFrame? Can you give an example of when you might use one of these functions?"
      ],
      "metadata": {
        "id": "nG6ypklsEJN7"
      }
    },
    {
      "cell_type": "markdown",
      "source": [
        "Some common data manipulation functions:\n",
        "\n",
        "1. read_csv(): takes a csv file and converts to data into a pandas dataframe\n",
        "2. head(n): returns the first n (default = 5) rows of a dataframe\n",
        "3. tail(n): returns the last n (default = 5) rows of a dataframe\n",
        "4. describe(): gives descriptive statistics to get a quick overview of the dataset"
      ],
      "metadata": {
        "id": "FIKOtKLRESyK"
      }
    },
    {
      "cell_type": "markdown",
      "source": [
        "#Q6. Which of the following is mutable in nature Series, DataFrame, Panel?"
      ],
      "metadata": {
        "id": "TP1BFkpSF1Yq"
      }
    },
    {
      "cell_type": "markdown",
      "source": [
        "All 3 are data mutable, but only dataframe and panel are size mutable."
      ],
      "metadata": {
        "id": "kyeHRFTYGFkT"
      }
    },
    {
      "cell_type": "markdown",
      "source": [
        "#Q7. Create a DataFrame using multiple Series. Explain with an example."
      ],
      "metadata": {
        "id": "xraUwkq4GP6j"
      }
    },
    {
      "cell_type": "code",
      "source": [
        "dataf = pd.DataFrame({\n",
        "    \"Class 1\": pd.Series([22, 33, 38], index=[\"math avg\", \"science avg\",  \"english avg\"]),\n",
        "    \"Class 2\": pd.Series([45, 28, 36], index=[\"math avg\", \"science avg\",  \"english avg\"]),\n",
        "    \"Class 3\": pd.Series([32, 41, 47], index=[\"math avg\", \"science avg\",  \"english avg\"])\n",
        "})\n",
        "dataf"
      ],
      "metadata": {
        "colab": {
          "base_uri": "https://localhost:8080/",
          "height": 143
        },
        "id": "V4tZ6hqzERmC",
        "outputId": "fa37f77d-5fc3-461c-af15-d4be55a00f0c"
      },
      "execution_count": 11,
      "outputs": [
        {
          "output_type": "execute_result",
          "data": {
            "text/plain": [
              "             Class 1  Class 2  Class 3\n",
              "math avg          22       45       32\n",
              "science avg       33       28       41\n",
              "english avg       38       36       47"
            ],
            "text/html": [
              "\n",
              "  <div id=\"df-de8a399d-7f03-429b-987f-d909458aa369\" class=\"colab-df-container\">\n",
              "    <div>\n",
              "<style scoped>\n",
              "    .dataframe tbody tr th:only-of-type {\n",
              "        vertical-align: middle;\n",
              "    }\n",
              "\n",
              "    .dataframe tbody tr th {\n",
              "        vertical-align: top;\n",
              "    }\n",
              "\n",
              "    .dataframe thead th {\n",
              "        text-align: right;\n",
              "    }\n",
              "</style>\n",
              "<table border=\"1\" class=\"dataframe\">\n",
              "  <thead>\n",
              "    <tr style=\"text-align: right;\">\n",
              "      <th></th>\n",
              "      <th>Class 1</th>\n",
              "      <th>Class 2</th>\n",
              "      <th>Class 3</th>\n",
              "    </tr>\n",
              "  </thead>\n",
              "  <tbody>\n",
              "    <tr>\n",
              "      <th>math avg</th>\n",
              "      <td>22</td>\n",
              "      <td>45</td>\n",
              "      <td>32</td>\n",
              "    </tr>\n",
              "    <tr>\n",
              "      <th>science avg</th>\n",
              "      <td>33</td>\n",
              "      <td>28</td>\n",
              "      <td>41</td>\n",
              "    </tr>\n",
              "    <tr>\n",
              "      <th>english avg</th>\n",
              "      <td>38</td>\n",
              "      <td>36</td>\n",
              "      <td>47</td>\n",
              "    </tr>\n",
              "  </tbody>\n",
              "</table>\n",
              "</div>\n",
              "    <div class=\"colab-df-buttons\">\n",
              "\n",
              "  <div class=\"colab-df-container\">\n",
              "    <button class=\"colab-df-convert\" onclick=\"convertToInteractive('df-de8a399d-7f03-429b-987f-d909458aa369')\"\n",
              "            title=\"Convert this dataframe to an interactive table.\"\n",
              "            style=\"display:none;\">\n",
              "\n",
              "  <svg xmlns=\"http://www.w3.org/2000/svg\" height=\"24px\" viewBox=\"0 -960 960 960\">\n",
              "    <path d=\"M120-120v-720h720v720H120Zm60-500h600v-160H180v160Zm220 220h160v-160H400v160Zm0 220h160v-160H400v160ZM180-400h160v-160H180v160Zm440 0h160v-160H620v160ZM180-180h160v-160H180v160Zm440 0h160v-160H620v160Z\"/>\n",
              "  </svg>\n",
              "    </button>\n",
              "\n",
              "  <style>\n",
              "    .colab-df-container {\n",
              "      display:flex;\n",
              "      gap: 12px;\n",
              "    }\n",
              "\n",
              "    .colab-df-convert {\n",
              "      background-color: #E8F0FE;\n",
              "      border: none;\n",
              "      border-radius: 50%;\n",
              "      cursor: pointer;\n",
              "      display: none;\n",
              "      fill: #1967D2;\n",
              "      height: 32px;\n",
              "      padding: 0 0 0 0;\n",
              "      width: 32px;\n",
              "    }\n",
              "\n",
              "    .colab-df-convert:hover {\n",
              "      background-color: #E2EBFA;\n",
              "      box-shadow: 0px 1px 2px rgba(60, 64, 67, 0.3), 0px 1px 3px 1px rgba(60, 64, 67, 0.15);\n",
              "      fill: #174EA6;\n",
              "    }\n",
              "\n",
              "    .colab-df-buttons div {\n",
              "      margin-bottom: 4px;\n",
              "    }\n",
              "\n",
              "    [theme=dark] .colab-df-convert {\n",
              "      background-color: #3B4455;\n",
              "      fill: #D2E3FC;\n",
              "    }\n",
              "\n",
              "    [theme=dark] .colab-df-convert:hover {\n",
              "      background-color: #434B5C;\n",
              "      box-shadow: 0px 1px 3px 1px rgba(0, 0, 0, 0.15);\n",
              "      filter: drop-shadow(0px 1px 2px rgba(0, 0, 0, 0.3));\n",
              "      fill: #FFFFFF;\n",
              "    }\n",
              "  </style>\n",
              "\n",
              "    <script>\n",
              "      const buttonEl =\n",
              "        document.querySelector('#df-de8a399d-7f03-429b-987f-d909458aa369 button.colab-df-convert');\n",
              "      buttonEl.style.display =\n",
              "        google.colab.kernel.accessAllowed ? 'block' : 'none';\n",
              "\n",
              "      async function convertToInteractive(key) {\n",
              "        const element = document.querySelector('#df-de8a399d-7f03-429b-987f-d909458aa369');\n",
              "        const dataTable =\n",
              "          await google.colab.kernel.invokeFunction('convertToInteractive',\n",
              "                                                    [key], {});\n",
              "        if (!dataTable) return;\n",
              "\n",
              "        const docLinkHtml = 'Like what you see? Visit the ' +\n",
              "          '<a target=\"_blank\" href=https://colab.research.google.com/notebooks/data_table.ipynb>data table notebook</a>'\n",
              "          + ' to learn more about interactive tables.';\n",
              "        element.innerHTML = '';\n",
              "        dataTable['output_type'] = 'display_data';\n",
              "        await google.colab.output.renderOutput(dataTable, element);\n",
              "        const docLink = document.createElement('div');\n",
              "        docLink.innerHTML = docLinkHtml;\n",
              "        element.appendChild(docLink);\n",
              "      }\n",
              "    </script>\n",
              "  </div>\n",
              "\n",
              "\n",
              "<div id=\"df-37a3ce47-970a-405a-a996-7ac159cdfafa\">\n",
              "  <button class=\"colab-df-quickchart\" onclick=\"quickchart('df-37a3ce47-970a-405a-a996-7ac159cdfafa')\"\n",
              "            title=\"Suggest charts.\"\n",
              "            style=\"display:none;\">\n",
              "\n",
              "<svg xmlns=\"http://www.w3.org/2000/svg\" height=\"24px\"viewBox=\"0 0 24 24\"\n",
              "     width=\"24px\">\n",
              "    <g>\n",
              "        <path d=\"M19 3H5c-1.1 0-2 .9-2 2v14c0 1.1.9 2 2 2h14c1.1 0 2-.9 2-2V5c0-1.1-.9-2-2-2zM9 17H7v-7h2v7zm4 0h-2V7h2v10zm4 0h-2v-4h2v4z\"/>\n",
              "    </g>\n",
              "</svg>\n",
              "  </button>\n",
              "\n",
              "<style>\n",
              "  .colab-df-quickchart {\n",
              "      --bg-color: #E8F0FE;\n",
              "      --fill-color: #1967D2;\n",
              "      --hover-bg-color: #E2EBFA;\n",
              "      --hover-fill-color: #174EA6;\n",
              "      --disabled-fill-color: #AAA;\n",
              "      --disabled-bg-color: #DDD;\n",
              "  }\n",
              "\n",
              "  [theme=dark] .colab-df-quickchart {\n",
              "      --bg-color: #3B4455;\n",
              "      --fill-color: #D2E3FC;\n",
              "      --hover-bg-color: #434B5C;\n",
              "      --hover-fill-color: #FFFFFF;\n",
              "      --disabled-bg-color: #3B4455;\n",
              "      --disabled-fill-color: #666;\n",
              "  }\n",
              "\n",
              "  .colab-df-quickchart {\n",
              "    background-color: var(--bg-color);\n",
              "    border: none;\n",
              "    border-radius: 50%;\n",
              "    cursor: pointer;\n",
              "    display: none;\n",
              "    fill: var(--fill-color);\n",
              "    height: 32px;\n",
              "    padding: 0;\n",
              "    width: 32px;\n",
              "  }\n",
              "\n",
              "  .colab-df-quickchart:hover {\n",
              "    background-color: var(--hover-bg-color);\n",
              "    box-shadow: 0 1px 2px rgba(60, 64, 67, 0.3), 0 1px 3px 1px rgba(60, 64, 67, 0.15);\n",
              "    fill: var(--button-hover-fill-color);\n",
              "  }\n",
              "\n",
              "  .colab-df-quickchart-complete:disabled,\n",
              "  .colab-df-quickchart-complete:disabled:hover {\n",
              "    background-color: var(--disabled-bg-color);\n",
              "    fill: var(--disabled-fill-color);\n",
              "    box-shadow: none;\n",
              "  }\n",
              "\n",
              "  .colab-df-spinner {\n",
              "    border: 2px solid var(--fill-color);\n",
              "    border-color: transparent;\n",
              "    border-bottom-color: var(--fill-color);\n",
              "    animation:\n",
              "      spin 1s steps(1) infinite;\n",
              "  }\n",
              "\n",
              "  @keyframes spin {\n",
              "    0% {\n",
              "      border-color: transparent;\n",
              "      border-bottom-color: var(--fill-color);\n",
              "      border-left-color: var(--fill-color);\n",
              "    }\n",
              "    20% {\n",
              "      border-color: transparent;\n",
              "      border-left-color: var(--fill-color);\n",
              "      border-top-color: var(--fill-color);\n",
              "    }\n",
              "    30% {\n",
              "      border-color: transparent;\n",
              "      border-left-color: var(--fill-color);\n",
              "      border-top-color: var(--fill-color);\n",
              "      border-right-color: var(--fill-color);\n",
              "    }\n",
              "    40% {\n",
              "      border-color: transparent;\n",
              "      border-right-color: var(--fill-color);\n",
              "      border-top-color: var(--fill-color);\n",
              "    }\n",
              "    60% {\n",
              "      border-color: transparent;\n",
              "      border-right-color: var(--fill-color);\n",
              "    }\n",
              "    80% {\n",
              "      border-color: transparent;\n",
              "      border-right-color: var(--fill-color);\n",
              "      border-bottom-color: var(--fill-color);\n",
              "    }\n",
              "    90% {\n",
              "      border-color: transparent;\n",
              "      border-bottom-color: var(--fill-color);\n",
              "    }\n",
              "  }\n",
              "</style>\n",
              "\n",
              "  <script>\n",
              "    async function quickchart(key) {\n",
              "      const quickchartButtonEl =\n",
              "        document.querySelector('#' + key + ' button');\n",
              "      quickchartButtonEl.disabled = true;  // To prevent multiple clicks.\n",
              "      quickchartButtonEl.classList.add('colab-df-spinner');\n",
              "      try {\n",
              "        const charts = await google.colab.kernel.invokeFunction(\n",
              "            'suggestCharts', [key], {});\n",
              "      } catch (error) {\n",
              "        console.error('Error during call to suggestCharts:', error);\n",
              "      }\n",
              "      quickchartButtonEl.classList.remove('colab-df-spinner');\n",
              "      quickchartButtonEl.classList.add('colab-df-quickchart-complete');\n",
              "    }\n",
              "    (() => {\n",
              "      let quickchartButtonEl =\n",
              "        document.querySelector('#df-37a3ce47-970a-405a-a996-7ac159cdfafa button');\n",
              "      quickchartButtonEl.style.display =\n",
              "        google.colab.kernel.accessAllowed ? 'block' : 'none';\n",
              "    })();\n",
              "  </script>\n",
              "</div>\n",
              "    </div>\n",
              "  </div>\n"
            ]
          },
          "metadata": {},
          "execution_count": 11
        }
      ]
    }
  ]
}